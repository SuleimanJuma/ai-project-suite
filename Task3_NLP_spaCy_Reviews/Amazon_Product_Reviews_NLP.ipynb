{
 "cells": [
  {
   "cell_type": "markdown",
   "id": "bced4789",
   "metadata": {},
   "source": [
    "# NLP with spaCy\n",
    "--------------------------------------------------------------------------------"
   ]
  },
  {
   "cell_type": "markdown",
   "id": "e0156330",
   "metadata": {},
   "source": [
    "# Text Data: User reviews from Amazon Product Reviews.\n",
    "\n",
    "Goal:\n",
    "==\n",
    "1. Perform named entity recognition (NER) to extract product names and brands.\n",
    "\n",
    "2. Analyze sentiment (positive/negative) using a rule-based approach.\n",
    "\n",
    "Deliverable: Code snippet and output showing extracted entities and sentiment.\n",
    "=="
   ]
  },
  {
   "cell_type": "markdown",
   "id": "cfa62e9f",
   "metadata": {},
   "source": [
    "# About Dataset\n",
    "This dataset consists of a few million Amazon customer reviews (input text) and star ratings (output labels) for learning how to train fastText for sentiment analysis.\n",
    "\n",
    "The idea here is a dataset is more of real business data on a reasonable scale.\n",
    "# Content\n",
    "The fastText supervised learning tutorial requires data in the following format:\n",
    "\n",
    "__label__<X> __label__<Y> ... <Text>\n",
    "where X and Y are the class names. No quotes, all on one line.\n",
    "\n",
    "In this case, the classes are __label__1 and __label__2, and there is only one class per row.\n",
    "\n",
    "__label__1 corresponds to 1- and 2-star reviews, and __label__2 corresponds to 4- and 5-star reviews.\n",
    "\n",
    "(3-star reviews i.e. reviews with neutral sentiment were not included in the original),\n",
    "The review titles, followed by ':' and a space, are prepended to the text.\n",
    "Most of the reviews are in English, but there are a few in other languages, like Spanish.\n",
    "    "
   ]
  },
  {
   "cell_type": "markdown",
   "id": "2debba1d",
   "metadata": {},
   "source": [
    "# Sentiment Analysis\n",
    "The rule based sentiment Analysis that defined here uses the extracted labels above which correspond to star-ratings where;\n",
    "1. 1- and 2-star ratings are considered \"NEGATIVE SENTIMENT\".\n",
    "2. 3-star rating i sconsidered \"NEUTRAL SENTIMENT\".\n",
    "3. 4- and 5-star rating is considered \"POSITIVE SENTIMENT\"."
   ]
  },
  {
   "cell_type": "code",
   "execution_count": 1,
   "id": "a557c3aa",
   "metadata": {},
   "outputs": [],
   "source": [
    "# Import all the required libraries\n",
    "import spacy\n",
    "import bz2\n",
    "import pandas as pd\n",
    "import numpy as np\n",
    "import re"
   ]
  },
  {
   "cell_type": "code",
   "execution_count": 2,
   "id": "4d96ff8b",
   "metadata": {},
   "outputs": [],
   "source": [
    "# Load spaCy English model\n",
    "nlp = spacy.load(\"en_core_web_md\")\n"
   ]
  },
  {
   "cell_type": "code",
   "execution_count": 3,
   "id": "5fcd8526",
   "metadata": {},
   "outputs": [],
   "source": [
    "# Load Amazon reviews data (CSV file, adjust path as needed)\n",
    "# Example: df = pd.read_csv(\"amazonreviews/amazonreviews.tsv\", sep='\\t')\n",
    "\n",
    "# with bz2.open('test.ft.txt.bz2', 'rb') as f:\n",
    "#         data = f.read()\n",
    "#         print(data.decode())\n",
    "        \n",
    "df = pd.read_csv(\"Downloads/test.ft.txt\", header=None, encoding_errors='ignore')  # Update path if needed\n"
   ]
  },
  {
   "cell_type": "code",
   "execution_count": 4,
   "id": "eadbbd67",
   "metadata": {},
   "outputs": [],
   "source": [
    "def assign_labels_and_comments(file, limit=100):\n",
    "    labels = []           # List to store labels\n",
    "    review = []         # List to store comments\n",
    "\n",
    "    for line in bz2.BZ2File(file):    # Read each line from a bz2 compressed file\n",
    "        x = line.decode(\"utf-8\")      # Decode the byte string to a regular string\n",
    "        \n",
    "        # Use regex to find the number after 'label__' in review text\n",
    "        match = re.search(r'label__([1-2]+)', x)\n",
    "\n",
    "        if match:\n",
    "            labels.append(int(match.group(1)))\n",
    "    #         label = int(match.group(1))\n",
    "           # print(\"Extracted label:\", labels)\n",
    "        else:\n",
    "            print(\"No label\")\n",
    "        \n",
    "        review.append(x[10:].strip())  # Get comment starting from 11th character\n",
    "\n",
    "    return np.array(labels), review  # Return "
   ]
  },
  {
   "cell_type": "code",
   "execution_count": 5,
   "id": "b6dbc905",
   "metadata": {},
   "outputs": [],
   "source": [
    "# Load data and call the assign labels function to split the data into label and reviewText \n",
    "labels, review = assign_labels_and_comments(\"Downloads/test.ft.txt.bz2/test.ft.txt.bz2\")"
   ]
  },
  {
   "cell_type": "code",
   "execution_count": 6,
   "id": "2923d991",
   "metadata": {},
   "outputs": [
    {
     "data": {
      "text/html": [
       "<div>\n",
       "<style scoped>\n",
       "    .dataframe tbody tr th:only-of-type {\n",
       "        vertical-align: middle;\n",
       "    }\n",
       "\n",
       "    .dataframe tbody tr th {\n",
       "        vertical-align: top;\n",
       "    }\n",
       "\n",
       "    .dataframe thead th {\n",
       "        text-align: right;\n",
       "    }\n",
       "</style>\n",
       "<table border=\"1\" class=\"dataframe\">\n",
       "  <thead>\n",
       "    <tr style=\"text-align: right;\">\n",
       "      <th></th>\n",
       "      <th>0</th>\n",
       "    </tr>\n",
       "  </thead>\n",
       "  <tbody>\n",
       "    <tr>\n",
       "      <th>0</th>\n",
       "      <td>__label__2 Great CD: My lovely Pat has one of ...</td>\n",
       "    </tr>\n",
       "    <tr>\n",
       "      <th>1</th>\n",
       "      <td>__label__2 One of the best game music soundtra...</td>\n",
       "    </tr>\n",
       "    <tr>\n",
       "      <th>2</th>\n",
       "      <td>__label__1 Batteries died within a year ...: I...</td>\n",
       "    </tr>\n",
       "    <tr>\n",
       "      <th>3</th>\n",
       "      <td>__label__2 works fine, but Maha Energy is bett...</td>\n",
       "    </tr>\n",
       "    <tr>\n",
       "      <th>4</th>\n",
       "      <td>__label__2 Great for the non-audiophile: Revie...</td>\n",
       "    </tr>\n",
       "    <tr>\n",
       "      <th>5</th>\n",
       "      <td>__label__1 DVD Player crapped out after one ye...</td>\n",
       "    </tr>\n",
       "    <tr>\n",
       "      <th>6</th>\n",
       "      <td>__label__1 Incorrect Disc: I love the style of...</td>\n",
       "    </tr>\n",
       "    <tr>\n",
       "      <th>7</th>\n",
       "      <td>__label__1 DVD menu select problems: I cannot ...</td>\n",
       "    </tr>\n",
       "    <tr>\n",
       "      <th>8</th>\n",
       "      <td>__label__2 Unique Weird Orientalia from the 19...</td>\n",
       "    </tr>\n",
       "    <tr>\n",
       "      <th>9</th>\n",
       "      <td>__label__1 Not an \"ultimate guide\": Firstly,I ...</td>\n",
       "    </tr>\n",
       "  </tbody>\n",
       "</table>\n",
       "</div>"
      ],
      "text/plain": [
       "                                                   0\n",
       "0  __label__2 Great CD: My lovely Pat has one of ...\n",
       "1  __label__2 One of the best game music soundtra...\n",
       "2  __label__1 Batteries died within a year ...: I...\n",
       "3  __label__2 works fine, but Maha Energy is bett...\n",
       "4  __label__2 Great for the non-audiophile: Revie...\n",
       "5  __label__1 DVD Player crapped out after one ye...\n",
       "6  __label__1 Incorrect Disc: I love the style of...\n",
       "7  __label__1 DVD menu select problems: I cannot ...\n",
       "8  __label__2 Unique Weird Orientalia from the 19...\n",
       "9  __label__1 Not an \"ultimate guide\": Firstly,I ..."
      ]
     },
     "execution_count": 6,
     "metadata": {},
     "output_type": "execute_result"
    }
   ],
   "source": [
    "df.head(10)"
   ]
  },
  {
   "cell_type": "code",
   "execution_count": 7,
   "id": "11be74c6",
   "metadata": {},
   "outputs": [],
   "source": [
    "# function to clean data\n",
    "\n",
    "def cleanData(doc,stemming = False):\n",
    "    doc = doc.lower()\n",
    "    doc = nlp(doc)\n",
    "    tokens = [tokens.lower_ for tokens in doc]\n",
    "    tokens = [tokens for tokens in doc if (tokens.is_stop == False)]\n",
    "    tokens = [tokens for tokens in tokens if (tokens.is_punct == False)]\n",
    "    final_token = [token.lemma_ for token in tokens]\n",
    "    \n",
    "    return \" \".join(final_token)"
   ]
  },
  {
   "cell_type": "code",
   "execution_count": 8,
   "id": "4553f15d",
   "metadata": {},
   "outputs": [
    {
     "name": "stdout",
     "output_type": "stream",
     "text": [
      "clean_review: label__2 great cd lovely pat great voice generation listen cd year love good mood make feel well bad mood evaporate like sugar rain cd oozes life vocal jusat stuunning lyric kill life hide gem desert isle cd book big everytime play matter black white young old male female everybody say thing singing\n",
      "clean_review: label__2 good game music soundtrack game play despite fact play small portion game music hear plus connection chrono trigger great lead purchase soundtrack remain favorite album incredible mix fun epic emotional song sad beautiful track especially like kind song video game soundtrack admit song life distant promise bring tear eye occasions.my complaint soundtrack use guitar fret effect song find distract include consider collection worth\n",
      "clean_review: label__1 battery die year buy charger jul 2003 work ok design nice convenient year battery hold charge alkaline disposable look charger come battery well staying power\n",
      "clean_review: label__2 work fine maha energy well check maha energy website powerex mh c204f charger work 100 minute rapid charge option slow charge well battery 2200 mah battery\n",
      "clean_review: label__2 great non audiophile review bit combo player hesitant unfavorable review size machine wean vhs collection want replace dvd unit build easy setup resolution special effect progressive scan hdtv owner suitable people look versatile product.cons- universal remote\n",
      "clean_review: label__1 dvd player crap year begin have incorrect disc problem read vcr work hte dvd useless understand dvd player quit year sign bad quality give jvc stick sony give brand shot\n",
      "clean_review: label__1 incorrect disc love style couple year dvd give problem work anymore use broken ps2 recommend go upgrade recorder wish work guess give jvc like stop work dvd player give problem probably year have\n",
      "clean_review: label__1 dvd menu select problem scroll dvd menu set vertically triangle key select horizontally select dvd play special feature language select play\n",
      "clean_review: label__2 unique weird orientalia 1930 exotic tale orient 1930 dr shen fu weird tale magazine reprint elixir life grant immortality price tired modern author sound alike antidote owen palette load splash chinese japanese colour marvelous\n",
      "clean_review: label__1 ultimate guide firstly enjoy format tone book author address reader feel impart insider secret book promise reveal start research law school know requirement admission book tremendous help homework look edge come admission recommend topic specific book example book write personal statment book gear specifically lsat preparation powerscore book helpful website great advice gear aid individual ask write letter recommendation new entire affair book definitely clarify requirement\n"
     ]
    }
   ],
   "source": [
    "# Preview the first 10 rows of the reviews\n",
    "for idx, row in df.head(10).iterrows():\n",
    "    Review = row[0]\n",
    "    clean_review = cleanData(Review)\n",
    "    print(f'clean_review: {clean_review}')"
   ]
  },
  {
   "cell_type": "code",
   "execution_count": 9,
   "id": "cea8d5da",
   "metadata": {},
   "outputs": [
    {
     "name": "stdout",
     "output_type": "stream",
     "text": [
      "clean_review: label__2 great cd lovely pat great voice generation listen cd year love good mood make feel well bad mood evaporate like sugar rain cd oozes life vocal jusat stuunning lyric kill life hide gem desert isle cd book big everytime play matter black white young old male female everybody say thing singing\n",
      "Extracted label: 2\n",
      "Sentiment: Positive\n",
      "\n",
      "Brands: []\n",
      "Products: []\n",
      "clean_review: label__2 good game music soundtrack game play despite fact play small portion game music hear plus connection chrono trigger great lead purchase soundtrack remain favorite album incredible mix fun epic emotional song sad beautiful track especially like kind song video game soundtrack admit song life distant promise bring tear eye occasions.my complaint soundtrack use guitar fret effect song find distract include consider collection worth\n",
      "Extracted label: 2\n",
      "Sentiment: Positive\n",
      "\n",
      "Brands: []\n",
      "Products: []\n",
      "clean_review: label__1 battery die year buy charger jul 2003 work ok design nice convenient year battery hold charge alkaline disposable look charger come battery well staying power\n",
      "Extracted label: 1\n",
      "Sentiment: Negative\n",
      "\n",
      "Brands: []\n",
      "Products: []\n",
      "clean_review: label__2 work fine maha energy well check maha energy website powerex mh c204f charger work 100 minute rapid charge option slow charge well battery 2200 mah battery\n",
      "Extracted label: 2\n",
      "Sentiment: Positive\n",
      "\n",
      "Brands: ['powerex mh c204f']\n",
      "Products: []\n",
      "clean_review: label__2 great non audiophile review bit combo player hesitant unfavorable review size machine wean vhs collection want replace dvd unit build easy setup resolution special effect progressive scan hdtv owner suitable people look versatile product.cons- universal remote\n",
      "Extracted label: 2\n",
      "Sentiment: Positive\n",
      "\n",
      "Brands: ['wean vhs']\n",
      "Products: []\n",
      "clean_review: label__1 dvd player crap year begin have incorrect disc problem read vcr work hte dvd useless understand dvd player quit year sign bad quality give jvc stick sony give brand shot\n",
      "Extracted label: 1\n",
      "Sentiment: Negative\n",
      "\n",
      "Brands: ['jvc', 'sony']\n",
      "Products: []\n",
      "clean_review: label__1 incorrect disc love style couple year dvd give problem work anymore use broken ps2 recommend go upgrade recorder wish work guess give jvc like stop work dvd player give problem probably year have\n",
      "Extracted label: 1\n",
      "Sentiment: Negative\n",
      "\n",
      "Brands: []\n",
      "Products: []\n",
      "clean_review: label__1 dvd menu select problem scroll dvd menu set vertically triangle key select horizontally select dvd play special feature language select play\n",
      "Extracted label: 1\n",
      "Sentiment: Negative\n",
      "\n",
      "Brands: []\n",
      "Products: []\n",
      "clean_review: label__2 unique weird orientalia 1930 exotic tale orient 1930 dr shen fu weird tale magazine reprint elixir life grant immortality price tired modern author sound alike antidote owen palette load splash chinese japanese colour marvelous\n",
      "Extracted label: 2\n",
      "Sentiment: Positive\n",
      "\n",
      "Brands: []\n",
      "Products: []\n",
      "clean_review: label__1 ultimate guide firstly enjoy format tone book author address reader feel impart insider secret book promise reveal start research law school know requirement admission book tremendous help homework look edge come admission recommend topic specific book example book write personal statment book gear specifically lsat preparation powerscore book helpful website great advice gear aid individual ask write letter recommendation new entire affair book definitely clarify requirement\n",
      "Extracted label: 1\n",
      "Sentiment: Negative\n",
      "\n",
      "Brands: []\n",
      "Products: []\n"
     ]
    }
   ],
   "source": [
    "# Simple rule-based sentiment analyzer\n",
    "def rule_based_sentiment(text):\n",
    "\n",
    "    if label==2:\n",
    "        return \"Positive\"\n",
    "    elif label==1:\n",
    "        return \"Negative\"\n",
    "    else:\n",
    "        return \"Neutral\"\n",
    "# Function to extract product names and brands using NER\n",
    "def extract_entities(text):\n",
    "    doc = nlp(text)\n",
    "    products = [ent.text for ent in doc.ents if ent.label_ == \"PRODUCT\"]\n",
    "    brands = [ent.text for ent in doc.ents if ent.label_ == \"ORG\"]\n",
    "    return products, brands\n",
    "\n",
    "# Process first 10 reviews as a sample\n",
    "for idx, row in df.head(10).iterrows():\n",
    "    Review = row[0]\n",
    "    clean_review = cleanData(Review)\n",
    "#     review = row[0]\n",
    "\n",
    "    # Use regex to find the number after 'label__' in clean_review text\n",
    "    match = re.search(r'label__([1-2]+)', clean_review)\n",
    "\n",
    "    if match:\n",
    "        label = int(match.group(1))\n",
    "        \n",
    "    else:\n",
    "        print(\"No label\")\n",
    "    sentiment = rule_based_sentiment(label)\n",
    "    products, brands = extract_entities(clean_review)\n",
    "    print(f'clean_review: {clean_review}')\n",
    "   \n",
    "#     print(f\"Review: {review}\")\n",
    "    print(\"Extracted label:\", label)\n",
    "    print(f\"Sentiment: {sentiment}\\n\")\n",
    "    print(f\"Brands: {brands}\")\n",
    "    print(f\"Products: {products}\")\n",
    "   "
   ]
  },
  {
   "cell_type": "code",
   "execution_count": null,
   "id": "06c98002",
   "metadata": {},
   "outputs": [],
   "source": []
  }
 ],
 "metadata": {
  "kernelspec": {
   "display_name": "tfkernel",
   "language": "python",
   "name": "tfkernel"
  },
  "language_info": {
   "codemirror_mode": {
    "name": "ipython",
    "version": 3
   },
   "file_extension": ".py",
   "mimetype": "text/x-python",
   "name": "python",
   "nbconvert_exporter": "python",
   "pygments_lexer": "ipython3",
   "version": "3.12.10"
  }
 },
 "nbformat": 4,
 "nbformat_minor": 5
}
